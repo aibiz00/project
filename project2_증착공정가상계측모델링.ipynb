{
 "cells": [
  {
   "cell_type": "markdown",
   "metadata": {
    "id": "qtHU03kSLV4k"
   },
   "source": [
    "# [Project 2] 증착 공정 가상 계측 모델링"
   ]
  },
  {
   "cell_type": "markdown",
   "metadata": {},
   "source": [
    "---"
   ]
  },
  {
   "cell_type": "markdown",
   "metadata": {},
   "source": [
    "## 프로젝트 목표\n",
    "- 공정 데이터를 활용한 박막 두께를 예측\n",
    "- 증착 두께를 예측에 영향을 미치는 요소들에 대한 데이터 분석 및 시각화"
   ]
  },
  {
   "cell_type": "markdown",
   "metadata": {},
   "source": [
    "---"
   ]
  },
  {
   "cell_type": "markdown",
   "metadata": {},
   "source": [
    "## 프로젝트 목차\n",
    "\n",
    "1. **데이터 읽기:** 데이터를 불러오고 Dataframe 구조를 확인\n",
    "<br>\n",
    "\n",
    "\n",
    "2. **데이터 시각화:** 데이터를 시각화 하여 Outlier 확인<br>\n",
    "\n",
    "\n",
    "3. **데이터 정제:** <br>\n",
    "    3.1. 결측치 제거<br>\n",
    "    3.2. 이상치 제거<br>\n",
    "\n",
    "\n",
    "4. **데이터 전처리:** 머신러닝 모델에 필요한 입력값 형식으로 데이터 처리<br>\n",
    "    4.1. x와 y로 분리<br>\n",
    "    4.2. 데이터 정규화<br>\n",
    "    4.3. 학습데이터, 평가데이터 분리\n",
    "\n",
    "\n",
    "5. **딥러닝 모델 학습:** ANN 인공신경망을 활용한 회귀<br>\n",
    "    5.1. 인공신경망 모델 생성\t<br>\n",
    "    5.2. 인공신경망 모델 학습\t<br>\n",
    "    5.3. 인공신경망 학습 결과 시각화\n",
    "    5.4. 인공신경망 학습 결과 평가\t\n",
    "\n",
    "\n",
    "6. **평가 및 예측:** 학습된 모델을 바탕으로 평가 및 예측 수행<br>\n",
    "    6.1. 인공신경망 예측 결과 복원<br>\n",
    "    6.2. 인공신경망 가상 계측 및 시각화<br>\n",
    "\n"
   ]
  },
  {
   "cell_type": "markdown",
   "metadata": {},
   "source": [
    "---"
   ]
  },
  {
   "cell_type": "markdown",
   "metadata": {},
   "source": [
    "## 데이터 출처\n",
    "- 명지대 증착 공정 연구실"
   ]
  },
  {
   "cell_type": "markdown",
   "metadata": {},
   "source": [
    "---"
   ]
  },
  {
   "cell_type": "markdown",
   "metadata": {},
   "source": [
    "## 프로젝트 개요\n",
    "\n",
    "제조 분야의 디지털 트랜스포메이션이 진행되면서 제조 공정에서 일어나는 수많은 정보가 데이터로 정리되고 있습니다. 제조 공정의 가상 계측 분야는 이러한 데이터 바탕으로 구현되는 인공지능 기술로 기존 확률 기반의 계측보다 높은 효율을 내고 있습니다. 이러한 가상 계측 알고리즘은 공적 최적화, 특정 특성을 맞추기 위한 공정 Test iteration 을 줄일 수 있게 도움줍니다. 아직까지는 물리적 수식에 의해 만들어진 가상 계측 보다 성능이 떨어지지만, 데이터가 쌓이고 모델이 업그레이드 되면서 그 성능이 더욱 높아질것으로 예상 됩니다. \n",
    "\n",
    "이번 프로젝트에서는 실제 증착 장비에서 측정한 센서 데이터를 바탕으로 입력 데이터 (feature)에 따라 증착 두께을 예측해보는 회귀 모델을 구현합니다. 이를 활용하여 센서 데이터가 주어 졌을 때 실제 장비를 구동하지 않고 증착 두께를 예측 할수 있습니다. 또한, 어떤 센서가 두께에 중요한 역할을 하는지 알아봅시다."
   ]
  },
  {
   "cell_type": "markdown",
   "metadata": {},
   "source": [
    "---"
   ]
  },
  {
   "cell_type": "markdown",
   "metadata": {
    "id": "cHgQImodLbAc"
   },
   "source": [
    "## 1. 데이터 읽기"
   ]
  },
  {
   "cell_type": "code",
   "execution_count": 132,
   "metadata": {},
   "outputs": [],
   "source": [
    "# 필요 모듈들을 import 합니다."
   ]
  },
  {
   "cell_type": "code",
   "execution_count": 133,
   "metadata": {
    "executionInfo": {
     "elapsed": 8,
     "status": "ok",
     "timestamp": 1661297108341,
     "user": {
      "displayName": "김재경",
      "userId": "17640319238031841520"
     },
     "user_tz": -540
    },
    "id": "_T4thl67qSyE"
   },
   "outputs": [],
   "source": [
    "import numpy as np\n",
    "import pandas as pd\n",
    "import matplotlib.pyplot as plt\n",
    "from mpl_toolkits.mplot3d import Axes3D\n",
    "from matplotlib import cm\n",
    "\n",
    "from sklearn.preprocessing import MinMaxScaler\n",
    "from sklearn.model_selection import train_test_split\n",
    "from sklearn.metrics import mean_squared_error, mean_absolute_error, r2_score\n",
    "\n",
    "import tensorflow as tf\n",
    "from tensorflow.keras.layers import Dense, Activation, Dropout\n",
    "from tensorflow.keras.models import Sequential\n",
    "from tensorflow.keras.optimizers import Adam\n",
    "from tensorflow.keras.initializers import he_uniform\n",
    "\n",
    "%matplotlib inline"
   ]
  },
  {
   "cell_type": "code",
   "execution_count": 134,
   "metadata": {},
   "outputs": [],
   "source": [
    "# random seed를 고정합니다."
   ]
  },
  {
   "cell_type": "code",
   "execution_count": 135,
   "metadata": {},
   "outputs": [],
   "source": [
    "tf.random.set_seed(0)"
   ]
  },
  {
   "cell_type": "code",
   "execution_count": 136,
   "metadata": {},
   "outputs": [],
   "source": [
    "# pandas를 사용하여 `data/Film_Thickness_Prediction_Data_(Recipe).csv` 데이터를 읽고 dataframe 형태로 저장해 봅시다."
   ]
  },
  {
   "cell_type": "code",
   "execution_count": 137,
   "metadata": {
    "colab": {
     "base_uri": "https://localhost:8080/",
     "height": 896
    },
    "executionInfo": {
     "elapsed": 8,
     "status": "ok",
     "timestamp": 1661297108342,
     "user": {
      "displayName": "김재경",
      "userId": "17640319238031841520"
     },
     "user_tz": -540
    },
    "id": "tCh8arD1ezPz",
    "outputId": "83e26d46-490e-4257-ad14-5c27f5f27ee7"
   },
   "outputs": [],
   "source": [
    "data = pd.read_csv('data/Film_Thickness_Prediction_Data_(Recipe).csv')"
   ]
  },
  {
   "cell_type": "code",
   "execution_count": 138,
   "metadata": {},
   "outputs": [],
   "source": [
    "# 30개의 행을 확인하세요. head()를 사용합니다. head() 안에 숫자를 넣을 수 있습니다. "
   ]
  },
  {
   "cell_type": "code",
   "execution_count": 139,
   "metadata": {
    "scrolled": false
   },
   "outputs": [
    {
     "data": {
      "text/html": [
       "<div>\n",
       "<style scoped>\n",
       "    .dataframe tbody tr th:only-of-type {\n",
       "        vertical-align: middle;\n",
       "    }\n",
       "\n",
       "    .dataframe tbody tr th {\n",
       "        vertical-align: top;\n",
       "    }\n",
       "\n",
       "    .dataframe thead th {\n",
       "        text-align: right;\n",
       "    }\n",
       "</style>\n",
       "<table border=\"1\" class=\"dataframe\">\n",
       "  <thead>\n",
       "    <tr style=\"text-align: right;\">\n",
       "      <th></th>\n",
       "      <th>Power</th>\n",
       "      <th>Pressure</th>\n",
       "      <th>C3H6</th>\n",
       "      <th>N2</th>\n",
       "      <th>Thickness</th>\n",
       "    </tr>\n",
       "  </thead>\n",
       "  <tbody>\n",
       "    <tr>\n",
       "      <th>0</th>\n",
       "      <td>250.0</td>\n",
       "      <td>1000</td>\n",
       "      <td>100.0</td>\n",
       "      <td>50</td>\n",
       "      <td>1023.0</td>\n",
       "    </tr>\n",
       "    <tr>\n",
       "      <th>1</th>\n",
       "      <td>250.0</td>\n",
       "      <td>800</td>\n",
       "      <td>80.0</td>\n",
       "      <td>50</td>\n",
       "      <td>701.0</td>\n",
       "    </tr>\n",
       "    <tr>\n",
       "      <th>2</th>\n",
       "      <td>230.0</td>\n",
       "      <td>800</td>\n",
       "      <td>80.0</td>\n",
       "      <td>40</td>\n",
       "      <td>758.0</td>\n",
       "    </tr>\n",
       "    <tr>\n",
       "      <th>3</th>\n",
       "      <td>230.0</td>\n",
       "      <td>1000</td>\n",
       "      <td>100.0</td>\n",
       "      <td>40</td>\n",
       "      <td>983.0</td>\n",
       "    </tr>\n",
       "    <tr>\n",
       "      <th>4</th>\n",
       "      <td>250.0</td>\n",
       "      <td>1000</td>\n",
       "      <td>80.0</td>\n",
       "      <td>40</td>\n",
       "      <td>1151.0</td>\n",
       "    </tr>\n",
       "    <tr>\n",
       "      <th>5</th>\n",
       "      <td>270.0</td>\n",
       "      <td>1000</td>\n",
       "      <td>80.0</td>\n",
       "      <td>50</td>\n",
       "      <td>1001.0</td>\n",
       "    </tr>\n",
       "    <tr>\n",
       "      <th>6</th>\n",
       "      <td>250.0</td>\n",
       "      <td>1000</td>\n",
       "      <td>60.0</td>\n",
       "      <td>50</td>\n",
       "      <td>1342.0</td>\n",
       "    </tr>\n",
       "    <tr>\n",
       "      <th>7</th>\n",
       "      <td>270.0</td>\n",
       "      <td>800</td>\n",
       "      <td>80.0</td>\n",
       "      <td>40</td>\n",
       "      <td>853.0</td>\n",
       "    </tr>\n",
       "    <tr>\n",
       "      <th>8</th>\n",
       "      <td>250.0</td>\n",
       "      <td>1000</td>\n",
       "      <td>60.0</td>\n",
       "      <td>30</td>\n",
       "      <td>1349.0</td>\n",
       "    </tr>\n",
       "    <tr>\n",
       "      <th>9</th>\n",
       "      <td>250.0</td>\n",
       "      <td>800</td>\n",
       "      <td>60.0</td>\n",
       "      <td>40</td>\n",
       "      <td>1007.0</td>\n",
       "    </tr>\n",
       "    <tr>\n",
       "      <th>10</th>\n",
       "      <td>250.0</td>\n",
       "      <td>1000</td>\n",
       "      <td>100.0</td>\n",
       "      <td>30</td>\n",
       "      <td>1133.0</td>\n",
       "    </tr>\n",
       "    <tr>\n",
       "      <th>11</th>\n",
       "      <td>230.0</td>\n",
       "      <td>1000</td>\n",
       "      <td>80.0</td>\n",
       "      <td>30</td>\n",
       "      <td>1284.0</td>\n",
       "    </tr>\n",
       "    <tr>\n",
       "      <th>12</th>\n",
       "      <td>270.0</td>\n",
       "      <td>1200</td>\n",
       "      <td>80.0</td>\n",
       "      <td>40</td>\n",
       "      <td>1801.0</td>\n",
       "    </tr>\n",
       "    <tr>\n",
       "      <th>13</th>\n",
       "      <td>250.0</td>\n",
       "      <td>800</td>\n",
       "      <td>100.0</td>\n",
       "      <td>40</td>\n",
       "      <td>799.0</td>\n",
       "    </tr>\n",
       "    <tr>\n",
       "      <th>14</th>\n",
       "      <td>230.0</td>\n",
       "      <td>1200</td>\n",
       "      <td>80.0</td>\n",
       "      <td>40</td>\n",
       "      <td>1414.0</td>\n",
       "    </tr>\n",
       "    <tr>\n",
       "      <th>15</th>\n",
       "      <td>270.0</td>\n",
       "      <td>1000</td>\n",
       "      <td>80.0</td>\n",
       "      <td>30</td>\n",
       "      <td>1072.0</td>\n",
       "    </tr>\n",
       "    <tr>\n",
       "      <th>16</th>\n",
       "      <td>230.0</td>\n",
       "      <td>1000</td>\n",
       "      <td>60.0</td>\n",
       "      <td>40</td>\n",
       "      <td>1335.0</td>\n",
       "    </tr>\n",
       "    <tr>\n",
       "      <th>17</th>\n",
       "      <td>660.0</td>\n",
       "      <td>1</td>\n",
       "      <td>3.0</td>\n",
       "      <td>5</td>\n",
       "      <td>10.0</td>\n",
       "    </tr>\n",
       "    <tr>\n",
       "      <th>18</th>\n",
       "      <td>250.0</td>\n",
       "      <td>1200</td>\n",
       "      <td>100.0</td>\n",
       "      <td>40</td>\n",
       "      <td>1216.0</td>\n",
       "    </tr>\n",
       "    <tr>\n",
       "      <th>19</th>\n",
       "      <td>250.0</td>\n",
       "      <td>1200</td>\n",
       "      <td>80.0</td>\n",
       "      <td>30</td>\n",
       "      <td>1380.0</td>\n",
       "    </tr>\n",
       "    <tr>\n",
       "      <th>20</th>\n",
       "      <td>250.0</td>\n",
       "      <td>1000</td>\n",
       "      <td>80.0</td>\n",
       "      <td>40</td>\n",
       "      <td>1053.0</td>\n",
       "    </tr>\n",
       "    <tr>\n",
       "      <th>21</th>\n",
       "      <td>270.0</td>\n",
       "      <td>1000</td>\n",
       "      <td>100.0</td>\n",
       "      <td>40</td>\n",
       "      <td>987.0</td>\n",
       "    </tr>\n",
       "    <tr>\n",
       "      <th>22</th>\n",
       "      <td>250.0</td>\n",
       "      <td>1200</td>\n",
       "      <td>60.0</td>\n",
       "      <td>40</td>\n",
       "      <td>1640.0</td>\n",
       "    </tr>\n",
       "    <tr>\n",
       "      <th>23</th>\n",
       "      <td>250.0</td>\n",
       "      <td>800</td>\n",
       "      <td>80.0</td>\n",
       "      <td>30</td>\n",
       "      <td>810.0</td>\n",
       "    </tr>\n",
       "    <tr>\n",
       "      <th>24</th>\n",
       "      <td>270.0</td>\n",
       "      <td>1000</td>\n",
       "      <td>60.0</td>\n",
       "      <td>40</td>\n",
       "      <td>1405.0</td>\n",
       "    </tr>\n",
       "    <tr>\n",
       "      <th>25</th>\n",
       "      <td>230.0</td>\n",
       "      <td>1000</td>\n",
       "      <td>80.0</td>\n",
       "      <td>50</td>\n",
       "      <td>1076.0</td>\n",
       "    </tr>\n",
       "    <tr>\n",
       "      <th>26</th>\n",
       "      <td>250.0</td>\n",
       "      <td>1000</td>\n",
       "      <td>80.0</td>\n",
       "      <td>40</td>\n",
       "      <td>1123.0</td>\n",
       "    </tr>\n",
       "    <tr>\n",
       "      <th>27</th>\n",
       "      <td>250.0</td>\n",
       "      <td>1200</td>\n",
       "      <td>80.0</td>\n",
       "      <td>50</td>\n",
       "      <td>1317.0</td>\n",
       "    </tr>\n",
       "    <tr>\n",
       "      <th>28</th>\n",
       "      <td>NaN</td>\n",
       "      <td>1200</td>\n",
       "      <td>NaN</td>\n",
       "      <td>50</td>\n",
       "      <td>NaN</td>\n",
       "    </tr>\n",
       "  </tbody>\n",
       "</table>\n",
       "</div>"
      ],
      "text/plain": [
       "    Power  Pressure   C3H6  N2  Thickness\n",
       "0   250.0      1000  100.0  50     1023.0\n",
       "1   250.0       800   80.0  50      701.0\n",
       "2   230.0       800   80.0  40      758.0\n",
       "3   230.0      1000  100.0  40      983.0\n",
       "4   250.0      1000   80.0  40     1151.0\n",
       "5   270.0      1000   80.0  50     1001.0\n",
       "6   250.0      1000   60.0  50     1342.0\n",
       "7   270.0       800   80.0  40      853.0\n",
       "8   250.0      1000   60.0  30     1349.0\n",
       "9   250.0       800   60.0  40     1007.0\n",
       "10  250.0      1000  100.0  30     1133.0\n",
       "11  230.0      1000   80.0  30     1284.0\n",
       "12  270.0      1200   80.0  40     1801.0\n",
       "13  250.0       800  100.0  40      799.0\n",
       "14  230.0      1200   80.0  40     1414.0\n",
       "15  270.0      1000   80.0  30     1072.0\n",
       "16  230.0      1000   60.0  40     1335.0\n",
       "17  660.0         1    3.0   5       10.0\n",
       "18  250.0      1200  100.0  40     1216.0\n",
       "19  250.0      1200   80.0  30     1380.0\n",
       "20  250.0      1000   80.0  40     1053.0\n",
       "21  270.0      1000  100.0  40      987.0\n",
       "22  250.0      1200   60.0  40     1640.0\n",
       "23  250.0       800   80.0  30      810.0\n",
       "24  270.0      1000   60.0  40     1405.0\n",
       "25  230.0      1000   80.0  50     1076.0\n",
       "26  250.0      1000   80.0  40     1123.0\n",
       "27  250.0      1200   80.0  50     1317.0\n",
       "28    NaN      1200    NaN  50        NaN"
      ]
     },
     "execution_count": 139,
     "metadata": {},
     "output_type": "execute_result"
    }
   ],
   "source": [
    "data.head(30)"
   ]
  },
  {
   "cell_type": "code",
   "execution_count": 140,
   "metadata": {},
   "outputs": [],
   "source": [
    "# dataframe의 정보를 요약해서 출력하세요\n",
    "# df.info()로 정보를 알 수 있습니다.\n",
    "# df.shape로 몇 행과 몇 열로 되어있는지 알 수 있습니다. 처음이 행이고 두번째 열입니다."
   ]
  },
  {
   "cell_type": "code",
   "execution_count": 141,
   "metadata": {
    "scrolled": true
   },
   "outputs": [
    {
     "name": "stdout",
     "output_type": "stream",
     "text": [
      "<class 'pandas.core.frame.DataFrame'>\n",
      "RangeIndex: 29 entries, 0 to 28\n",
      "Data columns (total 5 columns):\n",
      " #   Column     Non-Null Count  Dtype  \n",
      "---  ------     --------------  -----  \n",
      " 0   Power      28 non-null     float64\n",
      " 1   Pressure   29 non-null     int64  \n",
      " 2   C3H6       28 non-null     float64\n",
      " 3   N2         29 non-null     int64  \n",
      " 4   Thickness  28 non-null     float64\n",
      "dtypes: float64(3), int64(2)\n",
      "memory usage: 1.3 KB\n"
     ]
    },
    {
     "data": {
      "text/plain": [
       "(29, 5)"
      ]
     },
     "execution_count": 141,
     "metadata": {},
     "output_type": "execute_result"
    }
   ],
   "source": [
    "data.info()\n",
    "data.shape"
   ]
  },
  {
   "cell_type": "code",
   "execution_count": 142,
   "metadata": {
    "scrolled": true
   },
   "outputs": [],
   "source": [
    "# 수치형 변수의 데이터 정보를 요약하여 출력하세요\n",
    "# df.describe()를 사용합니다.\n",
    "# mean은 평균, std는 표준편차를 나타냅니다. "
   ]
  },
  {
   "cell_type": "code",
   "execution_count": 143,
   "metadata": {
    "scrolled": true
   },
   "outputs": [
    {
     "data": {
      "text/html": [
       "<div>\n",
       "<style scoped>\n",
       "    .dataframe tbody tr th:only-of-type {\n",
       "        vertical-align: middle;\n",
       "    }\n",
       "\n",
       "    .dataframe tbody tr th {\n",
       "        vertical-align: top;\n",
       "    }\n",
       "\n",
       "    .dataframe thead th {\n",
       "        text-align: right;\n",
       "    }\n",
       "</style>\n",
       "<table border=\"1\" class=\"dataframe\">\n",
       "  <thead>\n",
       "    <tr style=\"text-align: right;\">\n",
       "      <th></th>\n",
       "      <th>Power</th>\n",
       "      <th>Pressure</th>\n",
       "      <th>C3H6</th>\n",
       "      <th>N2</th>\n",
       "      <th>Thickness</th>\n",
       "    </tr>\n",
       "  </thead>\n",
       "  <tbody>\n",
       "    <tr>\n",
       "      <th>count</th>\n",
       "      <td>28.000000</td>\n",
       "      <td>29.000000</td>\n",
       "      <td>28.000000</td>\n",
       "      <td>29.000000</td>\n",
       "      <td>28.000000</td>\n",
       "    </tr>\n",
       "    <tr>\n",
       "      <th>mean</th>\n",
       "      <td>264.642857</td>\n",
       "      <td>972.448276</td>\n",
       "      <td>77.250000</td>\n",
       "      <td>39.137931</td>\n",
       "      <td>1107.964286</td>\n",
       "    </tr>\n",
       "    <tr>\n",
       "      <th>std</th>\n",
       "      <td>78.621557</td>\n",
       "      <td>231.145221</td>\n",
       "      <td>19.736458</td>\n",
       "      <td>9.455626</td>\n",
       "      <td>337.750563</td>\n",
       "    </tr>\n",
       "    <tr>\n",
       "      <th>min</th>\n",
       "      <td>230.000000</td>\n",
       "      <td>1.000000</td>\n",
       "      <td>3.000000</td>\n",
       "      <td>5.000000</td>\n",
       "      <td>10.000000</td>\n",
       "    </tr>\n",
       "    <tr>\n",
       "      <th>25%</th>\n",
       "      <td>250.000000</td>\n",
       "      <td>1000.000000</td>\n",
       "      <td>75.000000</td>\n",
       "      <td>40.000000</td>\n",
       "      <td>986.000000</td>\n",
       "    </tr>\n",
       "    <tr>\n",
       "      <th>50%</th>\n",
       "      <td>250.000000</td>\n",
       "      <td>1000.000000</td>\n",
       "      <td>80.000000</td>\n",
       "      <td>40.000000</td>\n",
       "      <td>1099.500000</td>\n",
       "    </tr>\n",
       "    <tr>\n",
       "      <th>75%</th>\n",
       "      <td>255.000000</td>\n",
       "      <td>1000.000000</td>\n",
       "      <td>80.000000</td>\n",
       "      <td>40.000000</td>\n",
       "      <td>1336.750000</td>\n",
       "    </tr>\n",
       "    <tr>\n",
       "      <th>max</th>\n",
       "      <td>660.000000</td>\n",
       "      <td>1200.000000</td>\n",
       "      <td>100.000000</td>\n",
       "      <td>50.000000</td>\n",
       "      <td>1801.000000</td>\n",
       "    </tr>\n",
       "  </tbody>\n",
       "</table>\n",
       "</div>"
      ],
      "text/plain": [
       "            Power     Pressure        C3H6         N2    Thickness\n",
       "count   28.000000    29.000000   28.000000  29.000000    28.000000\n",
       "mean   264.642857   972.448276   77.250000  39.137931  1107.964286\n",
       "std     78.621557   231.145221   19.736458   9.455626   337.750563\n",
       "min    230.000000     1.000000    3.000000   5.000000    10.000000\n",
       "25%    250.000000  1000.000000   75.000000  40.000000   986.000000\n",
       "50%    250.000000  1000.000000   80.000000  40.000000  1099.500000\n",
       "75%    255.000000  1000.000000   80.000000  40.000000  1336.750000\n",
       "max    660.000000  1200.000000  100.000000  50.000000  1801.000000"
      ]
     },
     "execution_count": 143,
     "metadata": {},
     "output_type": "execute_result"
    }
   ],
   "source": [
    "data.describe()"
   ]
  },
  {
   "cell_type": "markdown",
   "metadata": {
    "id": "cHgQImodLbAc"
   },
   "source": [
    "## 2. 데이터 시각화"
   ]
  },
  {
   "cell_type": "code",
   "execution_count": 144,
   "metadata": {},
   "outputs": [],
   "source": [
    "# 센서 데이터 0번~5번까지의 plot을 그려서 데이터를 시각화 해 봅니다.\n",
    "# Plot의 제목을 센서명으로 지정합니다."
   ]
  },
  {
   "cell_type": "code",
   "execution_count": 145,
   "metadata": {},
   "outputs": [
    {
     "data": {
      "image/png": "[encoded data removed]",
      "text/plain": [
       "<Figure size 640x480 with 1 Axes>"
      ]
     },
     "metadata": {},
     "output_type": "display_data"
    },
    {
     "data": {
      "image/png": "[encoded data removed]",
      "text/plain": [
       "<Figure size 640x480 with 1 Axes>"
      ]
     },
     "metadata": {},
     "output_type": "display_data"
    },
    {
     "data": {
      "image/png": "[encoded data removed]",
      "text/plain": [
       "<Figure size 640x480 with 1 Axes>"
      ]
     },
     "metadata": {},
     "output_type": "display_data"
    },
    {
     "data": {
      "image/png": "[encoded data removed]",
      "text/plain": [
       "<Figure size 640x480 with 1 Axes>"
      ]
     },
     "metadata": {},
     "output_type": "display_data"
    },
    {
     "data": {
      "image/png": "[encoded data removed]",
      "text/plain": [
       "<Figure size 640x480 with 1 Axes>"
      ]
     },
     "metadata": {},
     "output_type": "display_data"
    }
   ],
   "source": [
    "for i in range(0,5):\n",
    "    plt.plot(data.iloc[:,i])\n",
    "    plt.title(f\"{data.columns[i]}\")\n",
    "    plt.show()"
   ]
  },
  {
   "cell_type": "markdown",
   "metadata": {},
   "source": [
    "## 3. 데이터 정제"
   ]
  },
  {
   "cell_type": "markdown",
   "metadata": {},
   "source": [
    "이번 데이터에서는 결측치 및 이상치 제거를 해 보겠습니다."
   ]
  },
  {
   "cell_type": "markdown",
   "metadata": {},
   "source": [
    "아래 코드를 수행하여 각 변수별로 결측값이 몇개가 있는지 확인합니다."
   ]
  },
  {
   "cell_type": "markdown",
   "metadata": {
    "id": "y_h92VSZLf0v"
   },
   "source": [
    "### 3.1 결측치 제거"
   ]
  },
  {
   "cell_type": "code",
   "execution_count": 146,
   "metadata": {},
   "outputs": [],
   "source": [
    "#isnull을 사용하여 data에 N/A가 포함되어 있는지 확인 합니다."
   ]
  },
  {
   "cell_type": "code",
   "execution_count": 147,
   "metadata": {
    "scrolled": true
   },
   "outputs": [
    {
     "data": {
      "text/plain": [
       "Power        1\n",
       "Pressure     0\n",
       "C3H6         1\n",
       "N2           0\n",
       "Thickness    1\n",
       "dtype: int64"
      ]
     },
     "execution_count": 147,
     "metadata": {},
     "output_type": "execute_result"
    }
   ],
   "source": [
    "data.isnull().sum()"
   ]
  },
  {
   "cell_type": "code",
   "execution_count": 148,
   "metadata": {},
   "outputs": [],
   "source": [
    "# dropna는 결측치가 포함된 row, column을 지정하여 삭제 합니다.\n",
    "# df.dropna(axis=None)\n",
    "# Axis=0 : row 삭제, Axis=1 : column 삭제"
   ]
  },
  {
   "cell_type": "code",
   "execution_count": 149,
   "metadata": {
    "scrolled": true
   },
   "outputs": [
    {
     "data": {
      "text/html": [
       "<div>\n",
       "<style scoped>\n",
       "    .dataframe tbody tr th:only-of-type {\n",
       "        vertical-align: middle;\n",
       "    }\n",
       "\n",
       "    .dataframe tbody tr th {\n",
       "        vertical-align: top;\n",
       "    }\n",
       "\n",
       "    .dataframe thead th {\n",
       "        text-align: right;\n",
       "    }\n",
       "</style>\n",
       "<table border=\"1\" class=\"dataframe\">\n",
       "  <thead>\n",
       "    <tr style=\"text-align: right;\">\n",
       "      <th></th>\n",
       "      <th>Power</th>\n",
       "      <th>Pressure</th>\n",
       "      <th>C3H6</th>\n",
       "      <th>N2</th>\n",
       "      <th>Thickness</th>\n",
       "    </tr>\n",
       "  </thead>\n",
       "  <tbody>\n",
       "    <tr>\n",
       "      <th>0</th>\n",
       "      <td>250.0</td>\n",
       "      <td>1000</td>\n",
       "      <td>100.0</td>\n",
       "      <td>50</td>\n",
       "      <td>1023.0</td>\n",
       "    </tr>\n",
       "    <tr>\n",
       "      <th>1</th>\n",
       "      <td>250.0</td>\n",
       "      <td>800</td>\n",
       "      <td>80.0</td>\n",
       "      <td>50</td>\n",
       "      <td>701.0</td>\n",
       "    </tr>\n",
       "    <tr>\n",
       "      <th>2</th>\n",
       "      <td>230.0</td>\n",
       "      <td>800</td>\n",
       "      <td>80.0</td>\n",
       "      <td>40</td>\n",
       "      <td>758.0</td>\n",
       "    </tr>\n",
       "    <tr>\n",
       "      <th>3</th>\n",
       "      <td>230.0</td>\n",
       "      <td>1000</td>\n",
       "      <td>100.0</td>\n",
       "      <td>40</td>\n",
       "      <td>983.0</td>\n",
       "    </tr>\n",
       "    <tr>\n",
       "      <th>4</th>\n",
       "      <td>250.0</td>\n",
       "      <td>1000</td>\n",
       "      <td>80.0</td>\n",
       "      <td>40</td>\n",
       "      <td>1151.0</td>\n",
       "    </tr>\n",
       "    <tr>\n",
       "      <th>5</th>\n",
       "      <td>270.0</td>\n",
       "      <td>1000</td>\n",
       "      <td>80.0</td>\n",
       "      <td>50</td>\n",
       "      <td>1001.0</td>\n",
       "    </tr>\n",
       "    <tr>\n",
       "      <th>6</th>\n",
       "      <td>250.0</td>\n",
       "      <td>1000</td>\n",
       "      <td>60.0</td>\n",
       "      <td>50</td>\n",
       "      <td>1342.0</td>\n",
       "    </tr>\n",
       "    <tr>\n",
       "      <th>7</th>\n",
       "      <td>270.0</td>\n",
       "      <td>800</td>\n",
       "      <td>80.0</td>\n",
       "      <td>40</td>\n",
       "      <td>853.0</td>\n",
       "    </tr>\n",
       "    <tr>\n",
       "      <th>8</th>\n",
       "      <td>250.0</td>\n",
       "      <td>1000</td>\n",
       "      <td>60.0</td>\n",
       "      <td>30</td>\n",
       "      <td>1349.0</td>\n",
       "    </tr>\n",
       "    <tr>\n",
       "      <th>9</th>\n",
       "      <td>250.0</td>\n",
       "      <td>800</td>\n",
       "      <td>60.0</td>\n",
       "      <td>40</td>\n",
       "      <td>1007.0</td>\n",
       "    </tr>\n",
       "    <tr>\n",
       "      <th>10</th>\n",
       "      <td>250.0</td>\n",
       "      <td>1000</td>\n",
       "      <td>100.0</td>\n",
       "      <td>30</td>\n",
       "      <td>1133.0</td>\n",
       "    </tr>\n",
       "    <tr>\n",
       "      <th>11</th>\n",
       "      <td>230.0</td>\n",
       "      <td>1000</td>\n",
       "      <td>80.0</td>\n",
       "      <td>30</td>\n",
       "      <td>1284.0</td>\n",
       "    </tr>\n",
       "    <tr>\n",
       "      <th>12</th>\n",
       "      <td>270.0</td>\n",
       "      <td>1200</td>\n",
       "      <td>80.0</td>\n",
       "      <td>40</td>\n",
       "      <td>1801.0</td>\n",
       "    </tr>\n",
       "    <tr>\n",
       "      <th>13</th>\n",
       "      <td>250.0</td>\n",
       "      <td>800</td>\n",
       "      <td>100.0</td>\n",
       "      <td>40</td>\n",
       "      <td>799.0</td>\n",
       "    </tr>\n",
       "    <tr>\n",
       "      <th>14</th>\n",
       "      <td>230.0</td>\n",
       "      <td>1200</td>\n",
       "      <td>80.0</td>\n",
       "      <td>40</td>\n",
       "      <td>1414.0</td>\n",
       "    </tr>\n",
       "    <tr>\n",
       "      <th>15</th>\n",
       "      <td>270.0</td>\n",
       "      <td>1000</td>\n",
       "      <td>80.0</td>\n",
       "      <td>30</td>\n",
       "      <td>1072.0</td>\n",
       "    </tr>\n",
       "    <tr>\n",
       "      <th>16</th>\n",
       "      <td>230.0</td>\n",
       "      <td>1000</td>\n",
       "      <td>60.0</td>\n",
       "      <td>40</td>\n",
       "      <td>1335.0</td>\n",
       "    </tr>\n",
       "    <tr>\n",
       "      <th>17</th>\n",
       "      <td>660.0</td>\n",
       "      <td>1</td>\n",
       "      <td>3.0</td>\n",
       "      <td>5</td>\n",
       "      <td>10.0</td>\n",
       "    </tr>\n",
       "    <tr>\n",
       "      <th>18</th>\n",
       "      <td>250.0</td>\n",
       "      <td>1200</td>\n",
       "      <td>100.0</td>\n",
       "      <td>40</td>\n",
       "      <td>1216.0</td>\n",
       "    </tr>\n",
       "    <tr>\n",
       "      <th>19</th>\n",
       "      <td>250.0</td>\n",
       "      <td>1200</td>\n",
       "      <td>80.0</td>\n",
       "      <td>30</td>\n",
       "      <td>1380.0</td>\n",
       "    </tr>\n",
       "    <tr>\n",
       "      <th>20</th>\n",
       "      <td>250.0</td>\n",
       "      <td>1000</td>\n",
       "      <td>80.0</td>\n",
       "      <td>40</td>\n",
       "      <td>1053.0</td>\n",
       "    </tr>\n",
       "    <tr>\n",
       "      <th>21</th>\n",
       "      <td>270.0</td>\n",
       "      <td>1000</td>\n",
       "      <td>100.0</td>\n",
       "      <td>40</td>\n",
       "      <td>987.0</td>\n",
       "    </tr>\n",
       "    <tr>\n",
       "      <th>22</th>\n",
       "      <td>250.0</td>\n",
       "      <td>1200</td>\n",
       "      <td>60.0</td>\n",
       "      <td>40</td>\n",
       "      <td>1640.0</td>\n",
       "    </tr>\n",
       "    <tr>\n",
       "      <th>23</th>\n",
       "      <td>250.0</td>\n",
       "      <td>800</td>\n",
       "      <td>80.0</td>\n",
       "      <td>30</td>\n",
       "      <td>810.0</td>\n",
       "    </tr>\n",
       "    <tr>\n",
       "      <th>24</th>\n",
       "      <td>270.0</td>\n",
       "      <td>1000</td>\n",
       "      <td>60.0</td>\n",
       "      <td>40</td>\n",
       "      <td>1405.0</td>\n",
       "    </tr>\n",
       "    <tr>\n",
       "      <th>25</th>\n",
       "      <td>230.0</td>\n",
       "      <td>1000</td>\n",
       "      <td>80.0</td>\n",
       "      <td>50</td>\n",
       "      <td>1076.0</td>\n",
       "    </tr>\n",
       "    <tr>\n",
       "      <th>26</th>\n",
       "      <td>250.0</td>\n",
       "      <td>1000</td>\n",
       "      <td>80.0</td>\n",
       "      <td>40</td>\n",
       "      <td>1123.0</td>\n",
       "    </tr>\n",
       "    <tr>\n",
       "      <th>27</th>\n",
       "      <td>250.0</td>\n",
       "      <td>1200</td>\n",
       "      <td>80.0</td>\n",
       "      <td>50</td>\n",
       "      <td>1317.0</td>\n",
       "    </tr>\n",
       "  </tbody>\n",
       "</table>\n",
       "</div>"
      ],
      "text/plain": [
       "    Power  Pressure   C3H6  N2  Thickness\n",
       "0   250.0      1000  100.0  50     1023.0\n",
       "1   250.0       800   80.0  50      701.0\n",
       "2   230.0       800   80.0  40      758.0\n",
       "3   230.0      1000  100.0  40      983.0\n",
       "4   250.0      1000   80.0  40     1151.0\n",
       "5   270.0      1000   80.0  50     1001.0\n",
       "6   250.0      1000   60.0  50     1342.0\n",
       "7   270.0       800   80.0  40      853.0\n",
       "8   250.0      1000   60.0  30     1349.0\n",
       "9   250.0       800   60.0  40     1007.0\n",
       "10  250.0      1000  100.0  30     1133.0\n",
       "11  230.0      1000   80.0  30     1284.0\n",
       "12  270.0      1200   80.0  40     1801.0\n",
       "13  250.0       800  100.0  40      799.0\n",
       "14  230.0      1200   80.0  40     1414.0\n",
       "15  270.0      1000   80.0  30     1072.0\n",
       "16  230.0      1000   60.0  40     1335.0\n",
       "17  660.0         1    3.0   5       10.0\n",
       "18  250.0      1200  100.0  40     1216.0\n",
       "19  250.0      1200   80.0  30     1380.0\n",
       "20  250.0      1000   80.0  40     1053.0\n",
       "21  270.0      1000  100.0  40      987.0\n",
       "22  250.0      1200   60.0  40     1640.0\n",
       "23  250.0       800   80.0  30      810.0\n",
       "24  270.0      1000   60.0  40     1405.0\n",
       "25  230.0      1000   80.0  50     1076.0\n",
       "26  250.0      1000   80.0  40     1123.0\n",
       "27  250.0      1200   80.0  50     1317.0"
      ]
     },
     "execution_count": 149,
     "metadata": {},
     "output_type": "execute_result"
    }
   ],
   "source": [
    "data=data.dropna(axis=0)\n",
    "data"
   ]
  },
  {
   "cell_type": "markdown",
   "metadata": {
    "id": "y_h92VSZLf0v"
   },
   "source": [
    "### 3.2 이상치 제거"
   ]
  },
  {
   "cell_type": "code",
   "execution_count": 150,
   "metadata": {},
   "outputs": [],
   "source": [
    "# outlier를 z-score를 산출하여 제거 합니다.\n",
    "# z-score는 Z=(x-u)/std 의 수식으로 산출 됩니다.\n",
    "# np.mean으로 u, np.std로 각 column의 값을 산출하고 input이 들어왔을때\n",
    "# z score가 특정 z-score를 넘는 index를 return하는 함수를 생성하세요\n",
    "# 예시\n",
    "# def name(df, col, z-score)\n",
    "#     return df[equation > z-score].index\n",
    "#함수가 생성되었으면 drop함수를 이용하여 outlier 데이터를 삭제하세요"
   ]
  },
  {
   "cell_type": "code",
   "execution_count": 185,
   "metadata": {},
   "outputs": [],
   "source": [
    "def outlier(df, col, z):\n",
    "    return df[abs(df[col] - np.mean(df[col]))/np.std(df[col])>z].index"
   ]
  },
  {
   "cell_type": "code",
   "execution_count": 186,
   "metadata": {},
   "outputs": [
    {
     "data": {
      "text/html": [
       "<div>\n",
       "<style scoped>\n",
       "    .dataframe tbody tr th:only-of-type {\n",
       "        vertical-align: middle;\n",
       "    }\n",
       "\n",
       "    .dataframe tbody tr th {\n",
       "        vertical-align: top;\n",
       "    }\n",
       "\n",
       "    .dataframe thead th {\n",
       "        text-align: right;\n",
       "    }\n",
       "</style>\n",
       "<table border=\"1\" class=\"dataframe\">\n",
       "  <thead>\n",
       "    <tr style=\"text-align: right;\">\n",
       "      <th></th>\n",
       "      <th>Power</th>\n",
       "      <th>Pressure</th>\n",
       "      <th>C3H6</th>\n",
       "      <th>N2</th>\n",
       "      <th>Thickness</th>\n",
       "    </tr>\n",
       "  </thead>\n",
       "  <tbody>\n",
       "    <tr>\n",
       "      <th>0</th>\n",
       "      <td>250.0</td>\n",
       "      <td>1000</td>\n",
       "      <td>100.0</td>\n",
       "      <td>50</td>\n",
       "      <td>1023.0</td>\n",
       "    </tr>\n",
       "    <tr>\n",
       "      <th>1</th>\n",
       "      <td>250.0</td>\n",
       "      <td>800</td>\n",
       "      <td>80.0</td>\n",
       "      <td>50</td>\n",
       "      <td>701.0</td>\n",
       "    </tr>\n",
       "    <tr>\n",
       "      <th>2</th>\n",
       "      <td>230.0</td>\n",
       "      <td>800</td>\n",
       "      <td>80.0</td>\n",
       "      <td>40</td>\n",
       "      <td>758.0</td>\n",
       "    </tr>\n",
       "    <tr>\n",
       "      <th>3</th>\n",
       "      <td>230.0</td>\n",
       "      <td>1000</td>\n",
       "      <td>100.0</td>\n",
       "      <td>40</td>\n",
       "      <td>983.0</td>\n",
       "    </tr>\n",
       "    <tr>\n",
       "      <th>4</th>\n",
       "      <td>250.0</td>\n",
       "      <td>1000</td>\n",
       "      <td>80.0</td>\n",
       "      <td>40</td>\n",
       "      <td>1151.0</td>\n",
       "    </tr>\n",
       "    <tr>\n",
       "      <th>5</th>\n",
       "      <td>270.0</td>\n",
       "      <td>1000</td>\n",
       "      <td>80.0</td>\n",
       "      <td>50</td>\n",
       "      <td>1001.0</td>\n",
       "    </tr>\n",
       "    <tr>\n",
       "      <th>6</th>\n",
       "      <td>250.0</td>\n",
       "      <td>1000</td>\n",
       "      <td>60.0</td>\n",
       "      <td>50</td>\n",
       "      <td>1342.0</td>\n",
       "    </tr>\n",
       "    <tr>\n",
       "      <th>7</th>\n",
       "      <td>270.0</td>\n",
       "      <td>800</td>\n",
       "      <td>80.0</td>\n",
       "      <td>40</td>\n",
       "      <td>853.0</td>\n",
       "    </tr>\n",
       "    <tr>\n",
       "      <th>8</th>\n",
       "      <td>250.0</td>\n",
       "      <td>1000</td>\n",
       "      <td>60.0</td>\n",
       "      <td>30</td>\n",
       "      <td>1349.0</td>\n",
       "    </tr>\n",
       "    <tr>\n",
       "      <th>9</th>\n",
       "      <td>250.0</td>\n",
       "      <td>800</td>\n",
       "      <td>60.0</td>\n",
       "      <td>40</td>\n",
       "      <td>1007.0</td>\n",
       "    </tr>\n",
       "    <tr>\n",
       "      <th>10</th>\n",
       "      <td>250.0</td>\n",
       "      <td>1000</td>\n",
       "      <td>100.0</td>\n",
       "      <td>30</td>\n",
       "      <td>1133.0</td>\n",
       "    </tr>\n",
       "    <tr>\n",
       "      <th>11</th>\n",
       "      <td>230.0</td>\n",
       "      <td>1000</td>\n",
       "      <td>80.0</td>\n",
       "      <td>30</td>\n",
       "      <td>1284.0</td>\n",
       "    </tr>\n",
       "    <tr>\n",
       "      <th>12</th>\n",
       "      <td>270.0</td>\n",
       "      <td>1200</td>\n",
       "      <td>80.0</td>\n",
       "      <td>40</td>\n",
       "      <td>1801.0</td>\n",
       "    </tr>\n",
       "    <tr>\n",
       "      <th>13</th>\n",
       "      <td>250.0</td>\n",
       "      <td>800</td>\n",
       "      <td>100.0</td>\n",
       "      <td>40</td>\n",
       "      <td>799.0</td>\n",
       "    </tr>\n",
       "    <tr>\n",
       "      <th>14</th>\n",
       "      <td>230.0</td>\n",
       "      <td>1200</td>\n",
       "      <td>80.0</td>\n",
       "      <td>40</td>\n",
       "      <td>1414.0</td>\n",
       "    </tr>\n",
       "    <tr>\n",
       "      <th>15</th>\n",
       "      <td>270.0</td>\n",
       "      <td>1000</td>\n",
       "      <td>80.0</td>\n",
       "      <td>30</td>\n",
       "      <td>1072.0</td>\n",
       "    </tr>\n",
       "    <tr>\n",
       "      <th>16</th>\n",
       "      <td>230.0</td>\n",
       "      <td>1000</td>\n",
       "      <td>60.0</td>\n",
       "      <td>40</td>\n",
       "      <td>1335.0</td>\n",
       "    </tr>\n",
       "    <tr>\n",
       "      <th>18</th>\n",
       "      <td>250.0</td>\n",
       "      <td>1200</td>\n",
       "      <td>100.0</td>\n",
       "      <td>40</td>\n",
       "      <td>1216.0</td>\n",
       "    </tr>\n",
       "    <tr>\n",
       "      <th>19</th>\n",
       "      <td>250.0</td>\n",
       "      <td>1200</td>\n",
       "      <td>80.0</td>\n",
       "      <td>30</td>\n",
       "      <td>1380.0</td>\n",
       "    </tr>\n",
       "    <tr>\n",
       "      <th>20</th>\n",
       "      <td>250.0</td>\n",
       "      <td>1000</td>\n",
       "      <td>80.0</td>\n",
       "      <td>40</td>\n",
       "      <td>1053.0</td>\n",
       "    </tr>\n",
       "    <tr>\n",
       "      <th>21</th>\n",
       "      <td>270.0</td>\n",
       "      <td>1000</td>\n",
       "      <td>100.0</td>\n",
       "      <td>40</td>\n",
       "      <td>987.0</td>\n",
       "    </tr>\n",
       "    <tr>\n",
       "      <th>22</th>\n",
       "      <td>250.0</td>\n",
       "      <td>1200</td>\n",
       "      <td>60.0</td>\n",
       "      <td>40</td>\n",
       "      <td>1640.0</td>\n",
       "    </tr>\n",
       "    <tr>\n",
       "      <th>23</th>\n",
       "      <td>250.0</td>\n",
       "      <td>800</td>\n",
       "      <td>80.0</td>\n",
       "      <td>30</td>\n",
       "      <td>810.0</td>\n",
       "    </tr>\n",
       "    <tr>\n",
       "      <th>24</th>\n",
       "      <td>270.0</td>\n",
       "      <td>1000</td>\n",
       "      <td>60.0</td>\n",
       "      <td>40</td>\n",
       "      <td>1405.0</td>\n",
       "    </tr>\n",
       "    <tr>\n",
       "      <th>25</th>\n",
       "      <td>230.0</td>\n",
       "      <td>1000</td>\n",
       "      <td>80.0</td>\n",
       "      <td>50</td>\n",
       "      <td>1076.0</td>\n",
       "    </tr>\n",
       "    <tr>\n",
       "      <th>26</th>\n",
       "      <td>250.0</td>\n",
       "      <td>1000</td>\n",
       "      <td>80.0</td>\n",
       "      <td>40</td>\n",
       "      <td>1123.0</td>\n",
       "    </tr>\n",
       "    <tr>\n",
       "      <th>27</th>\n",
       "      <td>250.0</td>\n",
       "      <td>1200</td>\n",
       "      <td>80.0</td>\n",
       "      <td>50</td>\n",
       "      <td>1317.0</td>\n",
       "    </tr>\n",
       "  </tbody>\n",
       "</table>\n",
       "</div>"
      ],
      "text/plain": [
       "    Power  Pressure   C3H6  N2  Thickness\n",
       "0   250.0      1000  100.0  50     1023.0\n",
       "1   250.0       800   80.0  50      701.0\n",
       "2   230.0       800   80.0  40      758.0\n",
       "3   230.0      1000  100.0  40      983.0\n",
       "4   250.0      1000   80.0  40     1151.0\n",
       "5   270.0      1000   80.0  50     1001.0\n",
       "6   250.0      1000   60.0  50     1342.0\n",
       "7   270.0       800   80.0  40      853.0\n",
       "8   250.0      1000   60.0  30     1349.0\n",
       "9   250.0       800   60.0  40     1007.0\n",
       "10  250.0      1000  100.0  30     1133.0\n",
       "11  230.0      1000   80.0  30     1284.0\n",
       "12  270.0      1200   80.0  40     1801.0\n",
       "13  250.0       800  100.0  40      799.0\n",
       "14  230.0      1200   80.0  40     1414.0\n",
       "15  270.0      1000   80.0  30     1072.0\n",
       "16  230.0      1000   60.0  40     1335.0\n",
       "18  250.0      1200  100.0  40     1216.0\n",
       "19  250.0      1200   80.0  30     1380.0\n",
       "20  250.0      1000   80.0  40     1053.0\n",
       "21  270.0      1000  100.0  40      987.0\n",
       "22  250.0      1200   60.0  40     1640.0\n",
       "23  250.0       800   80.0  30      810.0\n",
       "24  270.0      1000   60.0  40     1405.0\n",
       "25  230.0      1000   80.0  50     1076.0\n",
       "26  250.0      1000   80.0  40     1123.0\n",
       "27  250.0      1200   80.0  50     1317.0"
      ]
     },
     "execution_count": 186,
     "metadata": {},
     "output_type": "execute_result"
    }
   ],
   "source": [
    "data=data.drop(index=outlier(data, 'Power', 3))\n",
    "data"
   ]
  },
  {
   "cell_type": "code",
   "execution_count": 153,
   "metadata": {},
   "outputs": [],
   "source": [
    "# 특정 index의 데이터가 삭제 되었음으로 indexing을 다시 설정 해 줍니다.\n",
    "# index의 재설정은 reset_index를 사용합니다.\n",
    "# reset_index(drop=True)로 설정해주지 않으면 기존에 갖고 있던 index가 하나의 column으로 추가됨"
   ]
  },
  {
   "cell_type": "code",
   "execution_count": 154,
   "metadata": {},
   "outputs": [
    {
     "data": {
      "text/html": [
       "<div>\n",
       "<style scoped>\n",
       "    .dataframe tbody tr th:only-of-type {\n",
       "        vertical-align: middle;\n",
       "    }\n",
       "\n",
       "    .dataframe tbody tr th {\n",
       "        vertical-align: top;\n",
       "    }\n",
       "\n",
       "    .dataframe thead th {\n",
       "        text-align: right;\n",
       "    }\n",
       "</style>\n",
       "<table border=\"1\" class=\"dataframe\">\n",
       "  <thead>\n",
       "    <tr style=\"text-align: right;\">\n",
       "      <th></th>\n",
       "      <th>Power</th>\n",
       "      <th>Pressure</th>\n",
       "      <th>C3H6</th>\n",
       "      <th>N2</th>\n",
       "      <th>Thickness</th>\n",
       "    </tr>\n",
       "  </thead>\n",
       "  <tbody>\n",
       "    <tr>\n",
       "      <th>0</th>\n",
       "      <td>250.0</td>\n",
       "      <td>1000</td>\n",
       "      <td>100.0</td>\n",
       "      <td>50</td>\n",
       "      <td>1023.0</td>\n",
       "    </tr>\n",
       "    <tr>\n",
       "      <th>1</th>\n",
       "      <td>250.0</td>\n",
       "      <td>800</td>\n",
       "      <td>80.0</td>\n",
       "      <td>50</td>\n",
       "      <td>701.0</td>\n",
       "    </tr>\n",
       "    <tr>\n",
       "      <th>2</th>\n",
       "      <td>230.0</td>\n",
       "      <td>800</td>\n",
       "      <td>80.0</td>\n",
       "      <td>40</td>\n",
       "      <td>758.0</td>\n",
       "    </tr>\n",
       "    <tr>\n",
       "      <th>3</th>\n",
       "      <td>230.0</td>\n",
       "      <td>1000</td>\n",
       "      <td>100.0</td>\n",
       "      <td>40</td>\n",
       "      <td>983.0</td>\n",
       "    </tr>\n",
       "    <tr>\n",
       "      <th>4</th>\n",
       "      <td>250.0</td>\n",
       "      <td>1000</td>\n",
       "      <td>80.0</td>\n",
       "      <td>40</td>\n",
       "      <td>1151.0</td>\n",
       "    </tr>\n",
       "    <tr>\n",
       "      <th>5</th>\n",
       "      <td>270.0</td>\n",
       "      <td>1000</td>\n",
       "      <td>80.0</td>\n",
       "      <td>50</td>\n",
       "      <td>1001.0</td>\n",
       "    </tr>\n",
       "    <tr>\n",
       "      <th>6</th>\n",
       "      <td>250.0</td>\n",
       "      <td>1000</td>\n",
       "      <td>60.0</td>\n",
       "      <td>50</td>\n",
       "      <td>1342.0</td>\n",
       "    </tr>\n",
       "    <tr>\n",
       "      <th>7</th>\n",
       "      <td>270.0</td>\n",
       "      <td>800</td>\n",
       "      <td>80.0</td>\n",
       "      <td>40</td>\n",
       "      <td>853.0</td>\n",
       "    </tr>\n",
       "    <tr>\n",
       "      <th>8</th>\n",
       "      <td>250.0</td>\n",
       "      <td>1000</td>\n",
       "      <td>60.0</td>\n",
       "      <td>30</td>\n",
       "      <td>1349.0</td>\n",
       "    </tr>\n",
       "    <tr>\n",
       "      <th>9</th>\n",
       "      <td>250.0</td>\n",
       "      <td>800</td>\n",
       "      <td>60.0</td>\n",
       "      <td>40</td>\n",
       "      <td>1007.0</td>\n",
       "    </tr>\n",
       "    <tr>\n",
       "      <th>10</th>\n",
       "      <td>250.0</td>\n",
       "      <td>1000</td>\n",
       "      <td>100.0</td>\n",
       "      <td>30</td>\n",
       "      <td>1133.0</td>\n",
       "    </tr>\n",
       "    <tr>\n",
       "      <th>11</th>\n",
       "      <td>230.0</td>\n",
       "      <td>1000</td>\n",
       "      <td>80.0</td>\n",
       "      <td>30</td>\n",
       "      <td>1284.0</td>\n",
       "    </tr>\n",
       "    <tr>\n",
       "      <th>12</th>\n",
       "      <td>270.0</td>\n",
       "      <td>1200</td>\n",
       "      <td>80.0</td>\n",
       "      <td>40</td>\n",
       "      <td>1801.0</td>\n",
       "    </tr>\n",
       "    <tr>\n",
       "      <th>13</th>\n",
       "      <td>250.0</td>\n",
       "      <td>800</td>\n",
       "      <td>100.0</td>\n",
       "      <td>40</td>\n",
       "      <td>799.0</td>\n",
       "    </tr>\n",
       "    <tr>\n",
       "      <th>14</th>\n",
       "      <td>230.0</td>\n",
       "      <td>1200</td>\n",
       "      <td>80.0</td>\n",
       "      <td>40</td>\n",
       "      <td>1414.0</td>\n",
       "    </tr>\n",
       "    <tr>\n",
       "      <th>15</th>\n",
       "      <td>270.0</td>\n",
       "      <td>1000</td>\n",
       "      <td>80.0</td>\n",
       "      <td>30</td>\n",
       "      <td>1072.0</td>\n",
       "    </tr>\n",
       "    <tr>\n",
       "      <th>16</th>\n",
       "      <td>230.0</td>\n",
       "      <td>1000</td>\n",
       "      <td>60.0</td>\n",
       "      <td>40</td>\n",
       "      <td>1335.0</td>\n",
       "    </tr>\n",
       "    <tr>\n",
       "      <th>18</th>\n",
       "      <td>250.0</td>\n",
       "      <td>1200</td>\n",
       "      <td>100.0</td>\n",
       "      <td>40</td>\n",
       "      <td>1216.0</td>\n",
       "    </tr>\n",
       "    <tr>\n",
       "      <th>19</th>\n",
       "      <td>250.0</td>\n",
       "      <td>1200</td>\n",
       "      <td>80.0</td>\n",
       "      <td>30</td>\n",
       "      <td>1380.0</td>\n",
       "    </tr>\n",
       "    <tr>\n",
       "      <th>20</th>\n",
       "      <td>250.0</td>\n",
       "      <td>1000</td>\n",
       "      <td>80.0</td>\n",
       "      <td>40</td>\n",
       "      <td>1053.0</td>\n",
       "    </tr>\n",
       "    <tr>\n",
       "      <th>21</th>\n",
       "      <td>270.0</td>\n",
       "      <td>1000</td>\n",
       "      <td>100.0</td>\n",
       "      <td>40</td>\n",
       "      <td>987.0</td>\n",
       "    </tr>\n",
       "    <tr>\n",
       "      <th>22</th>\n",
       "      <td>250.0</td>\n",
       "      <td>1200</td>\n",
       "      <td>60.0</td>\n",
       "      <td>40</td>\n",
       "      <td>1640.0</td>\n",
       "    </tr>\n",
       "    <tr>\n",
       "      <th>23</th>\n",
       "      <td>250.0</td>\n",
       "      <td>800</td>\n",
       "      <td>80.0</td>\n",
       "      <td>30</td>\n",
       "      <td>810.0</td>\n",
       "    </tr>\n",
       "    <tr>\n",
       "      <th>24</th>\n",
       "      <td>270.0</td>\n",
       "      <td>1000</td>\n",
       "      <td>60.0</td>\n",
       "      <td>40</td>\n",
       "      <td>1405.0</td>\n",
       "    </tr>\n",
       "    <tr>\n",
       "      <th>25</th>\n",
       "      <td>230.0</td>\n",
       "      <td>1000</td>\n",
       "      <td>80.0</td>\n",
       "      <td>50</td>\n",
       "      <td>1076.0</td>\n",
       "    </tr>\n",
       "    <tr>\n",
       "      <th>26</th>\n",
       "      <td>250.0</td>\n",
       "      <td>1000</td>\n",
       "      <td>80.0</td>\n",
       "      <td>40</td>\n",
       "      <td>1123.0</td>\n",
       "    </tr>\n",
       "    <tr>\n",
       "      <th>27</th>\n",
       "      <td>250.0</td>\n",
       "      <td>1200</td>\n",
       "      <td>80.0</td>\n",
       "      <td>50</td>\n",
       "      <td>1317.0</td>\n",
       "    </tr>\n",
       "  </tbody>\n",
       "</table>\n",
       "</div>"
      ],
      "text/plain": [
       "    Power  Pressure   C3H6  N2  Thickness\n",
       "0   250.0      1000  100.0  50     1023.0\n",
       "1   250.0       800   80.0  50      701.0\n",
       "2   230.0       800   80.0  40      758.0\n",
       "3   230.0      1000  100.0  40      983.0\n",
       "4   250.0      1000   80.0  40     1151.0\n",
       "5   270.0      1000   80.0  50     1001.0\n",
       "6   250.0      1000   60.0  50     1342.0\n",
       "7   270.0       800   80.0  40      853.0\n",
       "8   250.0      1000   60.0  30     1349.0\n",
       "9   250.0       800   60.0  40     1007.0\n",
       "10  250.0      1000  100.0  30     1133.0\n",
       "11  230.0      1000   80.0  30     1284.0\n",
       "12  270.0      1200   80.0  40     1801.0\n",
       "13  250.0       800  100.0  40      799.0\n",
       "14  230.0      1200   80.0  40     1414.0\n",
       "15  270.0      1000   80.0  30     1072.0\n",
       "16  230.0      1000   60.0  40     1335.0\n",
       "18  250.0      1200  100.0  40     1216.0\n",
       "19  250.0      1200   80.0  30     1380.0\n",
       "20  250.0      1000   80.0  40     1053.0\n",
       "21  270.0      1000  100.0  40      987.0\n",
       "22  250.0      1200   60.0  40     1640.0\n",
       "23  250.0       800   80.0  30      810.0\n",
       "24  270.0      1000   60.0  40     1405.0\n",
       "25  230.0      1000   80.0  50     1076.0\n",
       "26  250.0      1000   80.0  40     1123.0\n",
       "27  250.0      1200   80.0  50     1317.0"
      ]
     },
     "execution_count": 154,
     "metadata": {},
     "output_type": "execute_result"
    }
   ],
   "source": [
    "data.reset_index(drop=True)\n",
    "data"
   ]
  },
  {
   "cell_type": "markdown",
   "metadata": {},
   "source": [
    "## 4. 데이터 전처리"
   ]
  },
  {
   "cell_type": "markdown",
   "metadata": {
    "id": "y_h92VSZLf0v"
   },
   "source": [
    "### 4.1 x, y데이터 분리"
   ]
  },
  {
   "cell_type": "code",
   "execution_count": 155,
   "metadata": {},
   "outputs": [],
   "source": [
    "# 공정의 두께 (Thickness를 예측함하길 원함으로) Target(y)를 Thickness로 설정하고\n",
    "# 나머지 센서 데이터를 Feature(x)로 설정"
   ]
  },
  {
   "cell_type": "code",
   "execution_count": 187,
   "metadata": {
    "colab": {
     "base_uri": "https://localhost:8080/",
     "height": 896
    },
    "executionInfo": {
     "elapsed": 7,
     "status": "ok",
     "timestamp": 1661297108342,
     "user": {
      "displayName": "김재경",
      "userId": "17640319238031841520"
     },
     "user_tz": -540
    },
    "id": "W9OEurwVe_UT",
    "outputId": "27f6b5ab-8d89-45b9-bf98-6433c14b8236"
   },
   "outputs": [
    {
     "data": {
      "text/plain": [
       "array([[1023.],\n",
       "       [ 701.],\n",
       "       [ 758.],\n",
       "       [ 983.],\n",
       "       [1151.],\n",
       "       [1001.],\n",
       "       [1342.],\n",
       "       [ 853.],\n",
       "       [1349.],\n",
       "       [1007.],\n",
       "       [1133.],\n",
       "       [1284.],\n",
       "       [1801.],\n",
       "       [ 799.],\n",
       "       [1414.],\n",
       "       [1072.],\n",
       "       [1335.],\n",
       "       [1216.],\n",
       "       [1380.],\n",
       "       [1053.],\n",
       "       [ 987.],\n",
       "       [1640.],\n",
       "       [ 810.],\n",
       "       [1405.],\n",
       "       [1076.],\n",
       "       [1123.],\n",
       "       [1317.]])"
      ]
     },
     "execution_count": 187,
     "metadata": {},
     "output_type": "execute_result"
    }
   ],
   "source": [
    "x = data.iloc[:,:4]\n",
    "y = np.array(data.iloc[:,-1]).reshape(-1,1)\n",
    "y"
   ]
  },
  {
   "cell_type": "markdown",
   "metadata": {
    "id": "QguThBomLlZh"
   },
   "source": [
    "### 4.2 데이터 표준화"
   ]
  },
  {
   "cell_type": "markdown",
   "metadata": {},
   "source": [
    "각 변수 마다의 스케일 차이를 맞추기 위하여 표준화를 수행합니다. \n",
    "\n",
    "표준화는 서로 다른 피처의 크기를 통일하기 위해서 크기를 변환해주는 개념입니다.\n",
    "\n",
    "데이터의 피처를 0~1사이의 데이터로 변환하여 Feature간 scale차이를 없애 줍니다."
   ]
  },
  {
   "cell_type": "code",
   "execution_count": 157,
   "metadata": {},
   "outputs": [],
   "source": [
    "# MinMaxScaler 객체를 호출하고, fit_transform() 을 이용하여 Feature x를 표준화 해 보세요.\n",
    "# regression에서는 Target도 같이 표준화 해야합니다."
   ]
  },
  {
   "cell_type": "code",
   "execution_count": 158,
   "metadata": {},
   "outputs": [],
   "source": [
    "input_scaler = MinMaxScaler()\n",
    "output_scaler = MinMaxScaler()\n",
    "x_s = input_scaler.fit_transform(x)\n",
    "y_s = (output_scaler.fit_transform(y).reshape(-1))"
   ]
  },
  {
   "cell_type": "markdown",
   "metadata": {
    "id": "RLBcUt_4LtvJ"
   },
   "source": [
    "### 4.3 학습 (train) 데이터, 평가 (test) 데이터 분리"
   ]
  },
  {
   "cell_type": "code",
   "execution_count": 159,
   "metadata": {},
   "outputs": [],
   "source": [
    "# train_test_split 함수를 활용하여 정규화된 데이터를 train데이터와 test 데이터로 나누고\n",
    "# Shuffle과 random_state에 변화에 따른  결과를 확인하세요 "
   ]
  },
  {
   "cell_type": "code",
   "execution_count": 160,
   "metadata": {
    "colab": {
     "base_uri": "https://localhost:8080/"
    },
    "executionInfo": {
     "elapsed": 9,
     "status": "ok",
     "timestamp": 1661297108851,
     "user": {
      "displayName": "김재경",
      "userId": "17640319238031841520"
     },
     "user_tz": -540
    },
    "id": "PH-pextTk04Y",
    "outputId": "58684b1b-60cb-4194-c930-ddfb4454211b"
   },
   "outputs": [
    {
     "data": {
      "text/plain": [
       "array([0.38363636, 0.29272727, 0.27818182, 0.26      , 0.57636364,\n",
       "       1.        ])"
      ]
     },
     "execution_count": 160,
     "metadata": {},
     "output_type": "execute_result"
    }
   ],
   "source": [
    "x_train, x_test, y_train, y_test = train_test_split(x_s, y_s, test_size=0.2, shuffle=True, random_state=2)\n",
    "y_test"
   ]
  },
  {
   "cell_type": "markdown",
   "metadata": {
    "id": "m8dKd7a-L0N8"
   },
   "source": [
    "## 5. 딥러닝 모델 학습"
   ]
  },
  {
   "cell_type": "markdown",
   "metadata": {},
   "source": [
    "### 인공신경망 회귀 분석\n",
    "\n",
    "인공 신경망 (Artificial Neural Network, ANN)은 사람의 뇌 속 뉴런의 작용을 본떠 패턴을 구성한 컴퓨팅 시스템중 일종입니다. \n",
    "\n",
    "ANN 중 완전히 연결된 다층 신경망을 다층 퍼셉트론 (Multilayer Percoptron, MLP) 혹은 Fully Connected layer라고도 합니다. \n",
    "\n",
    "인공 신경망은 Output에 어떤 Layer를 추가하는가에 따라 classfication, regression등 다양한 인공지능 Task를 해결 할 수 있습니다.\n",
    "\n",
    "학습은 랜덤하게 배정된 weight를 loss function에 따라 역전파를 이용하여 weight를 최적화 하게 됩니다.\n",
    "\n",
    "이번 프로젝트에서는 인공 신경망 중 가장 simple한 Sequential model로 진행 해 보겠습니다.\n",
    "\n",
    "인공신경망을 활용하여 회귀 분석을 하기 위해서는 마지막 layer에 하나의 output을 단순 출력 하도록 합니다."
   ]
  },
  {
   "cell_type": "markdown",
   "metadata": {},
   "source": [
    "### 5.1 인공신경망 모델 생성"
   ]
  },
  {
   "cell_type": "code",
   "execution_count": 161,
   "metadata": {},
   "outputs": [],
   "source": [
    "# Keras에서 Sequential 모델을 불러오고 fully connected layer(Keras에서는 Dense layer)와 Activation layer를 번갈이 쌓아보세요.\n",
    "# Activation layer는 가장 일번적으로 사용되는 relu를 사용합니다.\n",
    "# 본 프로젝트는 회귀 모델임으로 마지막 layer는 크기를 1로 설정하여 하나의 값 Target을 추출 하도록 만듭니다.\n",
    "# model.summary()를 이용하여 sequntial 하게 쌓은 model을 출력 하세요."
   ]
  },
  {
   "cell_type": "code",
   "execution_count": 162,
   "metadata": {
    "colab": {
     "base_uri": "https://localhost:8080/"
    },
    "executionInfo": {
     "elapsed": 7,
     "status": "ok",
     "timestamp": 1661297108851,
     "user": {
      "displayName": "김재경",
      "userId": "17640319238031841520"
     },
     "user_tz": -540
    },
    "id": "nU0_rpzDoEc7",
    "outputId": "1f76487c-71e3-467c-8893-4173c51ec214"
   },
   "outputs": [
    {
     "name": "stdout",
     "output_type": "stream",
     "text": [
      "Model: \"sequential_2\"\n",
      "_________________________________________________________________\n",
      " Layer (type)                Output Shape              Param #   \n",
      "=================================================================\n",
      " dense_8 (Dense)             (None, 16)                80        \n",
      "                                                                 \n",
      " activation_6 (Activation)   (None, 16)                0         \n",
      "                                                                 \n",
      " dense_9 (Dense)             (None, 32)                544       \n",
      "                                                                 \n",
      " activation_7 (Activation)   (None, 32)                0         \n",
      "                                                                 \n",
      " dense_10 (Dense)            (None, 16)                528       \n",
      "                                                                 \n",
      " activation_8 (Activation)   (None, 16)                0         \n",
      "                                                                 \n",
      " dense_11 (Dense)            (None, 1)                 17        \n",
      "                                                                 \n",
      "=================================================================\n",
      "Total params: 1,169\n",
      "Trainable params: 1,169\n",
      "Non-trainable params: 0\n",
      "_________________________________________________________________\n"
     ]
    }
   ],
   "source": [
    "model = Sequential()\n",
    "\n",
    "model.add(Dense(16, kernel_initializer = 'he_uniform', input_dim=4))\n",
    "model.add(Activation('relu'))\n",
    "model.add(Dense(32, kernel_initializer = 'he_uniform'))\n",
    "model.add(Activation('relu'))\n",
    "model.add(Dense(16, kernel_initializer = 'he_uniform'))\n",
    "model.add(Activation('relu'))\n",
    "model.add(Dense(1, activation='relu'))\n",
    "model.summary()"
   ]
  },
  {
   "cell_type": "code",
   "execution_count": 163,
   "metadata": {},
   "outputs": [],
   "source": [
    "# 모델의 역전파를 위해 model.complie을 사용합니다.\n",
    "# model.compile(loss='loss function', optimizer = 'optimizer name', metric  =['mae, mse, rmse'])로 시킬 수 있습니다.\n",
    "# 역전파는 ADAM optimizer를 사용하고, learning rate은 0.001로 설정합니다.\n",
    "# learning rate은 emperical하게 선택되나, 일반적으로 0.001을 default로 많이 사용 합니다."
   ]
  },
  {
   "cell_type": "code",
   "execution_count": 164,
   "metadata": {},
   "outputs": [],
   "source": [
    "adam = Adam(learning_rate = 0.001)\n",
    "model.compile(loss = 'mse', optimizer = adam, metrics = ['mae'])"
   ]
  },
  {
   "cell_type": "markdown",
   "metadata": {},
   "source": [
    "### 5.2 인공신경망 모델 학습"
   ]
  },
  {
   "cell_type": "code",
   "execution_count": 165,
   "metadata": {},
   "outputs": [],
   "source": [
    "# model을 학습시켜 봅니다. \n",
    "# 학습은 model.fit(train_data, train_target, validation_data =(x_test, y_test), batch size=None, epochs=None)으로 시킬 수 있습니다."
   ]
  },
  {
   "cell_type": "code",
   "execution_count": 166,
   "metadata": {},
   "outputs": [
    {
     "name": "stdout",
     "output_type": "stream",
     "text": [
      "Epoch 1/70\n",
      "3/3 [==============================] - 1s 63ms/step - loss: 0.1016 - mae: 0.2810 - val_loss: 0.1034 - val_mae: 0.2741\n",
      "Epoch 2/70\n",
      "3/3 [==============================] - 0s 11ms/step - loss: 0.0835 - mae: 0.2549 - val_loss: 0.0926 - val_mae: 0.2573\n",
      "Epoch 3/70\n",
      "3/3 [==============================] - 0s 10ms/step - loss: 0.0721 - mae: 0.2390 - val_loss: 0.0835 - val_mae: 0.2424\n",
      "Epoch 4/70\n",
      "3/3 [==============================] - 0s 11ms/step - loss: 0.0610 - mae: 0.2214 - val_loss: 0.0733 - val_mae: 0.2281\n",
      "Epoch 5/70\n",
      "3/3 [==============================] - 0s 10ms/step - loss: 0.0514 - mae: 0.2070 - val_loss: 0.0651 - val_mae: 0.2177\n",
      "Epoch 6/70\n",
      "3/3 [==============================] - 0s 11ms/step - loss: 0.0430 - mae: 0.1903 - val_loss: 0.0582 - val_mae: 0.2070\n",
      "Epoch 7/70\n",
      "3/3 [==============================] - 0s 13ms/step - loss: 0.0370 - mae: 0.1770 - val_loss: 0.0518 - val_mae: 0.1962\n",
      "Epoch 8/70\n",
      "3/3 [==============================] - 0s 11ms/step - loss: 0.0305 - mae: 0.1609 - val_loss: 0.0466 - val_mae: 0.1860\n",
      "Epoch 9/70\n",
      "3/3 [==============================] - 0s 11ms/step - loss: 0.0267 - mae: 0.1481 - val_loss: 0.0417 - val_mae: 0.1747\n",
      "Epoch 10/70\n",
      "3/3 [==============================] - 0s 10ms/step - loss: 0.0229 - mae: 0.1358 - val_loss: 0.0384 - val_mae: 0.1634\n",
      "Epoch 11/70\n",
      "3/3 [==============================] - 0s 11ms/step - loss: 0.0199 - mae: 0.1248 - val_loss: 0.0367 - val_mae: 0.1537\n",
      "Epoch 12/70\n",
      "3/3 [==============================] - 0s 11ms/step - loss: 0.0174 - mae: 0.1157 - val_loss: 0.0330 - val_mae: 0.1465\n",
      "Epoch 13/70\n",
      "3/3 [==============================] - 0s 11ms/step - loss: 0.0153 - mae: 0.1058 - val_loss: 0.0302 - val_mae: 0.1403\n",
      "Epoch 14/70\n",
      "3/3 [==============================] - 0s 11ms/step - loss: 0.0137 - mae: 0.0987 - val_loss: 0.0281 - val_mae: 0.1342\n",
      "Epoch 15/70\n",
      "3/3 [==============================] - 0s 10ms/step - loss: 0.0125 - mae: 0.0931 - val_loss: 0.0267 - val_mae: 0.1294\n",
      "Epoch 16/70\n",
      "3/3 [==============================] - 0s 11ms/step - loss: 0.0115 - mae: 0.0894 - val_loss: 0.0256 - val_mae: 0.1254\n",
      "Epoch 17/70\n",
      "3/3 [==============================] - 0s 11ms/step - loss: 0.0108 - mae: 0.0877 - val_loss: 0.0256 - val_mae: 0.1210\n",
      "Epoch 18/70\n",
      "3/3 [==============================] - 0s 11ms/step - loss: 0.0101 - mae: 0.0847 - val_loss: 0.0252 - val_mae: 0.1181\n",
      "Epoch 19/70\n",
      "3/3 [==============================] - 0s 11ms/step - loss: 0.0095 - mae: 0.0829 - val_loss: 0.0253 - val_mae: 0.1152\n",
      "Epoch 20/70\n",
      "3/3 [==============================] - 0s 11ms/step - loss: 0.0089 - mae: 0.0813 - val_loss: 0.0253 - val_mae: 0.1126\n",
      "Epoch 21/70\n",
      "3/3 [==============================] - 0s 14ms/step - loss: 0.0087 - mae: 0.0813 - val_loss: 0.0256 - val_mae: 0.1099\n",
      "Epoch 22/70\n",
      "3/3 [==============================] - 0s 11ms/step - loss: 0.0082 - mae: 0.0785 - val_loss: 0.0245 - val_mae: 0.1088\n",
      "Epoch 23/70\n",
      "3/3 [==============================] - 0s 11ms/step - loss: 0.0077 - mae: 0.0769 - val_loss: 0.0244 - val_mae: 0.1070\n",
      "Epoch 24/70\n",
      "3/3 [==============================] - 0s 12ms/step - loss: 0.0073 - mae: 0.0747 - val_loss: 0.0253 - val_mae: 0.1041\n",
      "Epoch 25/70\n",
      "3/3 [==============================] - 0s 11ms/step - loss: 0.0073 - mae: 0.0739 - val_loss: 0.0261 - val_mae: 0.1015\n",
      "Epoch 26/70\n",
      "3/3 [==============================] - 0s 11ms/step - loss: 0.0066 - mae: 0.0705 - val_loss: 0.0249 - val_mae: 0.1002\n",
      "Epoch 27/70\n",
      "3/3 [==============================] - 0s 11ms/step - loss: 0.0063 - mae: 0.0692 - val_loss: 0.0228 - val_mae: 0.0990\n",
      "Epoch 28/70\n",
      "3/3 [==============================] - 0s 11ms/step - loss: 0.0061 - mae: 0.0705 - val_loss: 0.0218 - val_mae: 0.0976\n",
      "Epoch 29/70\n",
      "3/3 [==============================] - 0s 12ms/step - loss: 0.0058 - mae: 0.0684 - val_loss: 0.0230 - val_mae: 0.0952\n",
      "Epoch 30/70\n",
      "3/3 [==============================] - 0s 11ms/step - loss: 0.0054 - mae: 0.0656 - val_loss: 0.0250 - val_mae: 0.0936\n",
      "Epoch 31/70\n",
      "3/3 [==============================] - 0s 11ms/step - loss: 0.0053 - mae: 0.0633 - val_loss: 0.0272 - val_mae: 0.0974\n",
      "Epoch 32/70\n",
      "3/3 [==============================] - 0s 12ms/step - loss: 0.0051 - mae: 0.0607 - val_loss: 0.0264 - val_mae: 0.0942\n",
      "Epoch 33/70\n",
      "3/3 [==============================] - 0s 11ms/step - loss: 0.0048 - mae: 0.0609 - val_loss: 0.0238 - val_mae: 0.0928\n",
      "Epoch 34/70\n",
      "3/3 [==============================] - 0s 11ms/step - loss: 0.0045 - mae: 0.0604 - val_loss: 0.0232 - val_mae: 0.0931\n",
      "Epoch 35/70\n",
      "3/3 [==============================] - 0s 10ms/step - loss: 0.0047 - mae: 0.0612 - val_loss: 0.0224 - val_mae: 0.0933\n",
      "Epoch 36/70\n",
      "3/3 [==============================] - 0s 12ms/step - loss: 0.0043 - mae: 0.0590 - val_loss: 0.0244 - val_mae: 0.0920\n",
      "Epoch 37/70\n",
      "3/3 [==============================] - 0s 13ms/step - loss: 0.0040 - mae: 0.0557 - val_loss: 0.0260 - val_mae: 0.0947\n",
      "Epoch 38/70\n",
      "3/3 [==============================] - 0s 11ms/step - loss: 0.0040 - mae: 0.0540 - val_loss: 0.0262 - val_mae: 0.0950\n",
      "Epoch 39/70\n",
      "3/3 [==============================] - 0s 11ms/step - loss: 0.0038 - mae: 0.0523 - val_loss: 0.0254 - val_mae: 0.0934\n",
      "Epoch 40/70\n",
      "3/3 [==============================] - 0s 10ms/step - loss: 0.0036 - mae: 0.0527 - val_loss: 0.0239 - val_mae: 0.0919\n",
      "Epoch 41/70\n",
      "3/3 [==============================] - 0s 12ms/step - loss: 0.0037 - mae: 0.0539 - val_loss: 0.0233 - val_mae: 0.0921\n",
      "Epoch 42/70\n",
      "3/3 [==============================] - 0s 12ms/step - loss: 0.0034 - mae: 0.0509 - val_loss: 0.0255 - val_mae: 0.0942\n",
      "Epoch 43/70\n",
      "3/3 [==============================] - 0s 11ms/step - loss: 0.0032 - mae: 0.0481 - val_loss: 0.0261 - val_mae: 0.0960\n",
      "Epoch 44/70\n",
      "3/3 [==============================] - 0s 11ms/step - loss: 0.0032 - mae: 0.0465 - val_loss: 0.0263 - val_mae: 0.0983\n",
      "Epoch 45/70\n",
      "3/3 [==============================] - 0s 11ms/step - loss: 0.0031 - mae: 0.0453 - val_loss: 0.0250 - val_mae: 0.0952\n",
      "Epoch 46/70\n",
      "3/3 [==============================] - 0s 12ms/step - loss: 0.0030 - mae: 0.0466 - val_loss: 0.0231 - val_mae: 0.0921\n",
      "Epoch 47/70\n",
      "3/3 [==============================] - 0s 11ms/step - loss: 0.0029 - mae: 0.0459 - val_loss: 0.0232 - val_mae: 0.0929\n",
      "Epoch 48/70\n",
      "3/3 [==============================] - 0s 12ms/step - loss: 0.0028 - mae: 0.0446 - val_loss: 0.0239 - val_mae: 0.0944\n",
      "Epoch 49/70\n",
      "3/3 [==============================] - 0s 13ms/step - loss: 0.0026 - mae: 0.0430 - val_loss: 0.0254 - val_mae: 0.0968\n",
      "Epoch 50/70\n",
      "3/3 [==============================] - 0s 12ms/step - loss: 0.0026 - mae: 0.0410 - val_loss: 0.0261 - val_mae: 0.1001\n",
      "Epoch 51/70\n",
      "3/3 [==============================] - 0s 15ms/step - loss: 0.0026 - mae: 0.0400 - val_loss: 0.0251 - val_mae: 0.0964\n",
      "Epoch 52/70\n",
      "3/3 [==============================] - 0s 16ms/step - loss: 0.0024 - mae: 0.0395 - val_loss: 0.0238 - val_mae: 0.0939\n",
      "Epoch 53/70\n",
      "3/3 [==============================] - 0s 17ms/step - loss: 0.0024 - mae: 0.0405 - val_loss: 0.0230 - val_mae: 0.0928\n",
      "Epoch 54/70\n",
      "3/3 [==============================] - 0s 17ms/step - loss: 0.0024 - mae: 0.0411 - val_loss: 0.0229 - val_mae: 0.0929\n",
      "Epoch 55/70\n",
      "3/3 [==============================] - 0s 14ms/step - loss: 0.0023 - mae: 0.0400 - val_loss: 0.0245 - val_mae: 0.0961\n",
      "Epoch 56/70\n",
      "3/3 [==============================] - 0s 14ms/step - loss: 0.0022 - mae: 0.0371 - val_loss: 0.0256 - val_mae: 0.1008\n",
      "Epoch 57/70\n",
      "3/3 [==============================] - 0s 12ms/step - loss: 0.0023 - mae: 0.0357 - val_loss: 0.0263 - val_mae: 0.1037\n",
      "Epoch 58/70\n",
      "3/3 [==============================] - 0s 11ms/step - loss: 0.0022 - mae: 0.0354 - val_loss: 0.0245 - val_mae: 0.0978\n",
      "Epoch 59/70\n",
      "3/3 [==============================] - 0s 12ms/step - loss: 0.0022 - mae: 0.0366 - val_loss: 0.0229 - val_mae: 0.0950\n",
      "Epoch 60/70\n",
      "3/3 [==============================] - 0s 11ms/step - loss: 0.0021 - mae: 0.0364 - val_loss: 0.0240 - val_mae: 0.0966\n",
      "Epoch 61/70\n",
      "3/3 [==============================] - 0s 11ms/step - loss: 0.0021 - mae: 0.0346 - val_loss: 0.0263 - val_mae: 0.1047\n",
      "Epoch 62/70\n",
      "3/3 [==============================] - 0s 11ms/step - loss: 0.0021 - mae: 0.0326 - val_loss: 0.0267 - val_mae: 0.1062\n",
      "Epoch 63/70\n",
      "3/3 [==============================] - 0s 11ms/step - loss: 0.0020 - mae: 0.0322 - val_loss: 0.0245 - val_mae: 0.0973\n",
      "Epoch 64/70\n"
     ]
    },
    {
     "name": "stdout",
     "output_type": "stream",
     "text": [
      "3/3 [==============================] - 0s 11ms/step - loss: 0.0020 - mae: 0.0352 - val_loss: 0.0235 - val_mae: 0.0956\n",
      "Epoch 65/70\n",
      "3/3 [==============================] - 0s 11ms/step - loss: 0.0020 - mae: 0.0348 - val_loss: 0.0246 - val_mae: 0.0981\n",
      "Epoch 66/70\n",
      "3/3 [==============================] - 0s 12ms/step - loss: 0.0018 - mae: 0.0315 - val_loss: 0.0265 - val_mae: 0.1060\n",
      "Epoch 67/70\n",
      "3/3 [==============================] - 0s 11ms/step - loss: 0.0019 - mae: 0.0302 - val_loss: 0.0274 - val_mae: 0.1094\n",
      "Epoch 68/70\n",
      "3/3 [==============================] - 0s 12ms/step - loss: 0.0019 - mae: 0.0298 - val_loss: 0.0270 - val_mae: 0.1083\n",
      "Epoch 69/70\n",
      "3/3 [==============================] - 0s 11ms/step - loss: 0.0018 - mae: 0.0297 - val_loss: 0.0248 - val_mae: 0.1003\n",
      "Epoch 70/70\n",
      "3/3 [==============================] - 0s 10ms/step - loss: 0.0018 - mae: 0.0317 - val_loss: 0.0235 - val_mae: 0.0977\n"
     ]
    }
   ],
   "source": [
    "hist = model.fit(x_train, y_train, validation_data =(x_test, y_test), batch_size=8, epochs=70)"
   ]
  },
  {
   "cell_type": "markdown",
   "metadata": {
    "id": "MT5znhnsL4aV"
   },
   "source": [
    "### 5.3 인공신경망 학습 결과 시각화"
   ]
  },
  {
   "cell_type": "code",
   "execution_count": 167,
   "metadata": {},
   "outputs": [],
   "source": [
    "# 학습시 변수로 선언했던 모델은 history 객체를 갖고 있습니다.\n",
    "# hist.history를 활용하여 loss값과 평가 metric을 plot 합니다.\n",
    "# 학습이 잘되었는지 평가 하기 위해서는 Epoch에 따라 loss, metric이 모두 감소해야 합니다.\n",
    "# 또한 test를 위해 사용한 valdation loss와 metric을 하나의 그래프로 시각화해야 학습 결과를 손쉽게 알 수 있습니다."
   ]
  },
  {
   "cell_type": "code",
   "execution_count": 168,
   "metadata": {
    "colab": {
     "base_uri": "https://localhost:8080/",
     "height": 1000
    },
    "executionInfo": {
     "elapsed": 6359,
     "status": "ok",
     "timestamp": 1661297115206,
     "user": {
      "displayName": "김재경",
      "userId": "17640319238031841520"
     },
     "user_tz": -540
    },
    "id": "-iro4eZ7wruO",
    "outputId": "7073fb8e-04dd-43cd-d194-8bbd9fd6dd39"
   },
   "outputs": [
    {
     "data": {
      "image/png": "[encoded data removed]",
      "text/plain": [
       "<Figure size 1200x800 with 1 Axes>"
      ]
     },
     "metadata": {},
     "output_type": "display_data"
    }
   ],
   "source": [
    "plt.figure(figsize=(12,8))\n",
    "\n",
    "plt.rc('xtick', labelsize=15)\n",
    "plt.rc('ytick', labelsize=15)\n",
    "\n",
    "plt.plot(hist.history['loss'])\n",
    "plt.plot(hist.history['val_loss'])\n",
    "plt.plot(hist.history['mae'])\n",
    "plt.plot(hist.history['val_mae'])\n",
    "plt.legend(['Training loss', 'Test loss', 'Training MAE', 'test MAE'], fontsize=15)\n",
    "\n",
    "plt.xlabel('Epochs', fontsize=15)\n",
    "plt.ylabel('Training Error', fontsize=15)\n",
    "\n",
    "plt.grid()\n",
    "plt.show()"
   ]
  },
  {
   "cell_type": "markdown",
   "metadata": {
    "id": "Qov7eME7L9-h"
   },
   "source": [
    "### 5.4 인공신경망 학습 결과 평가"
   ]
  },
  {
   "cell_type": "code",
   "execution_count": 169,
   "metadata": {},
   "outputs": [],
   "source": [
    "# 학습결과를 확인하기 위해 model.predict(input)을 활용하여 y_predict를 추출 해 보세요.\n",
    "# test, train 결과를 모두 예측해봅시다."
   ]
  },
  {
   "cell_type": "code",
   "execution_count": 170,
   "metadata": {},
   "outputs": [
    {
     "name": "stdout",
     "output_type": "stream",
     "text": [
      "1/1 [==============================] - 0s 38ms/step\n",
      "1/1 [==============================] - 0s 15ms/step\n"
     ]
    }
   ],
   "source": [
    "y_test_pred = model.predict(x_test)\n",
    "y_train_pred = model.predict(x_train)"
   ]
  },
  {
   "cell_type": "code",
   "execution_count": 171,
   "metadata": {},
   "outputs": [],
   "source": [
    "# train, test 결과에 대해 모두\n",
    "# plot.scatter를 이용하여 x 축은 ground truth, y 축은 예측 결과를 그려보세요.\n",
    "# plot.plot을 이용하여 (0,0)과 (1,1)를 지나는 선을 그려보세요. \n",
    "# 실선과 점들이 겹쳤을때 정답을 맞췄다고 손쉽게 알 수 있습니다."
   ]
  },
  {
   "cell_type": "code",
   "execution_count": 172,
   "metadata": {
    "colab": {
     "base_uri": "https://localhost:8080/",
     "height": 419
    },
    "executionInfo": {
     "elapsed": 961,
     "status": "ok",
     "timestamp": 1661297756099,
     "user": {
      "displayName": "김재경",
      "userId": "17640319238031841520"
     },
     "user_tz": -540
    },
    "id": "khWNjlsTybxV",
    "outputId": "b44256af-d857-4bf3-cf4b-c3700eaee495",
    "scrolled": false
   },
   "outputs": [
    {
     "data": {
      "image/png": "[encoded data removed]",
      "text/plain": [
       "<Figure size 600x600 with 1 Axes>"
      ]
     },
     "metadata": {},
     "output_type": "display_data"
    }
   ],
   "source": [
    "plt.figure(figsize=(6,6))\n",
    "\n",
    "plt.rc('xtick', labelsize=15)\n",
    "plt.rc('ytick', labelsize=15)\n",
    "\n",
    "plt.scatter(y_test, y_test_pred, label='Test data')\n",
    "plt.scatter(y_train, y_train_pred, label='Train data')\n",
    "plt.plot([0,1], [0,1], c = 'darkgray')\n",
    "\n",
    "plt.title('Film Thickness Modeling', fontsize=20)\n",
    "plt.xlabel('True Values', fontsize=15)\n",
    "plt.ylabel('Predictions', fontsize=15)\n",
    "\n",
    "plt.legend(loc = 'lower right', fontsize=15)\n",
    "\n",
    "plt.show()"
   ]
  },
  {
   "cell_type": "markdown",
   "metadata": {
    "id": "m8dKd7a-L0N8"
   },
   "source": [
    "## 6. 평가 및 예측"
   ]
  },
  {
   "cell_type": "markdown",
   "metadata": {
    "id": "Qov7eME7L9-h"
   },
   "source": [
    "### 6.1 인공신경망 예측 결과 복원"
   ]
  },
  {
   "cell_type": "code",
   "execution_count": 173,
   "metadata": {},
   "outputs": [],
   "source": [
    "# 지금까지 본 모든 데이터는 정규화 되어 실측치와 다른 0~1사이의 값을 갖는 값을 갖고 있었습니다.\n",
    "# 정규화 수식을 역산하여 y_train과 y_test의 predict결과를 복원합니다."
   ]
  },
  {
   "cell_type": "code",
   "execution_count": 174,
   "metadata": {
    "executionInfo": {
     "elapsed": 9,
     "status": "ok",
     "timestamp": 1661297115207,
     "user": {
      "displayName": "김재경",
      "userId": "17640319238031841520"
     },
     "user_tz": -540
    },
    "id": "u7Ycq87l2nvr"
   },
   "outputs": [],
   "source": [
    "y_test_pred_i = output_scaler.inverse_transform(y_test_pred)\n",
    "y_train_pred_i = output_scaler.inverse_transform(y_train_pred)\n",
    "y_test_i = output_scaler.inverse_transform(y_test.reshape(-1, 1))\n",
    "y_train_i = output_scaler.inverse_transform(y_train.reshape(-1, 1))"
   ]
  },
  {
   "cell_type": "code",
   "execution_count": 175,
   "metadata": {},
   "outputs": [],
   "source": [
    "# MSE, RMSE, MAE, R-2 Score 를 train 데이터에서 산출 해 봅니다.\n",
    "# 스킷런에서는 rmse는 제공하지 않기 때문에 mean squared error에 root를 취하여 계산해 봅니다.\n",
    "# 아래의 function을 이용하여 구합니다.\n",
    "# MSE : mean_squred_error(truth, predict)\n",
    "# RMSE : mean_squred_error(truth, predict)**0.5\n",
    "# MSE : mean_absolute_error(truth, predict)\n",
    "# r2 score : r2_score(truth, predict)"
   ]
  },
  {
   "cell_type": "code",
   "execution_count": 176,
   "metadata": {
    "colab": {
     "base_uri": "https://localhost:8080/"
    },
    "executionInfo": {
     "elapsed": 9,
     "status": "ok",
     "timestamp": 1661297115207,
     "user": {
      "displayName": "김재경",
      "userId": "17640319238031841520"
     },
     "user_tz": -540
    },
    "id": "8Mn1d7GP-mt_",
    "outputId": "3470af62-0daf-4eaa-bf4f-d4c2d71bbb6f"
   },
   "outputs": [
    {
     "name": "stdout",
     "output_type": "stream",
     "text": [
      "Mean squared error (MSE)_Train data : 2191.28\n",
      "Root mean squared error (RMSE)_Train data : 46.81\n",
      "Mean absolute error (MSE)_Train data : 36.38\n",
      "R2_Train data : 0.965\n"
     ]
    }
   ],
   "source": [
    "print(\"Mean squared error (MSE)_Train data :\",round(mean_squared_error(y_train_i,y_train_pred_i),2))\n",
    "print(\"Root mean squared error (RMSE)_Train data :\",round(mean_squared_error(y_train_i,y_train_pred_i)**0.5,2))\n",
    "print(\"Mean absolute error (MSE)_Train data :\",round(mean_absolute_error(y_train_i,y_train_pred_i),2))\n",
    "print(\"R2_Train data :\",round(r2_score(y_train_i,y_train_pred_i),3))"
   ]
  },
  {
   "cell_type": "code",
   "execution_count": 177,
   "metadata": {},
   "outputs": [],
   "source": [
    "# MSE, RMSE, MAE, R-2 Score 를 Test 데이터에서도 똑같이 산출 해 봅니다."
   ]
  },
  {
   "cell_type": "code",
   "execution_count": 178,
   "metadata": {
    "colab": {
     "base_uri": "https://localhost:8080/"
    },
    "executionInfo": {
     "elapsed": 8,
     "status": "ok",
     "timestamp": 1661297115208,
     "user": {
      "displayName": "김재경",
      "userId": "17640319238031841520"
     },
     "user_tz": -540
    },
    "id": "zPJjr_KM8uXM",
    "outputId": "2152a2ab-c9f0-405a-9ec3-d358a0a79bd1"
   },
   "outputs": [
    {
     "name": "stdout",
     "output_type": "stream",
     "text": [
      "Mean squared error (MSE)_Test data : 28402.76\n",
      "Root mean squared error (RMSE)_Test data : 168.53\n",
      "Mean absolute error (MSE)_Test data : 107.43\n",
      "R2_Test data : 0.658\n"
     ]
    }
   ],
   "source": [
    "print(\"Mean squared error (MSE)_Test data :\",round(mean_squared_error(y_test_i,y_test_pred_i),2))\n",
    "print(\"Root mean squared error (RMSE)_Test data :\",round(mean_squared_error(y_test_i,y_test_pred_i)**0.5,2))\n",
    "print(\"Mean absolute error (MSE)_Test data :\",round(mean_absolute_error(y_test_i,y_test_pred_i),2))\n",
    "print(\"R2_Test data :\",round(r2_score(y_test_i,y_test_pred_i),3))"
   ]
  },
  {
   "cell_type": "markdown",
   "metadata": {
    "id": "Qov7eME7L9-h"
   },
   "source": [
    "### 6.2 인공신경망을 이용한 가상 계측 및 시각화"
   ]
  },
  {
   "cell_type": "code",
   "execution_count": 179,
   "metadata": {},
   "outputs": [],
   "source": [
    "# 가상 계측을 위해 센서데이터의 측정값인 data/Recipe_Power_Pressure.csv을 불러옵니다.\n",
    "# 불러온 데이터를 이전에 사용했던 minmax scalar을 이용하여 transform 해줍니다."
   ]
  },
  {
   "cell_type": "code",
   "execution_count": 180,
   "metadata": {},
   "outputs": [],
   "source": [
    "data_modeling_3d = pd.read_csv('data/Recipe_Power_Pressure.csv')\n",
    "data_modeling_3d_s = input_scaler.transform(data_modeling_3d)"
   ]
  },
  {
   "cell_type": "code",
   "execution_count": 181,
   "metadata": {},
   "outputs": [],
   "source": [
    "# normalize된 데이터와 학습된 model을 이용하여 thickness를 예측해 봅니다.\n",
    "# 예측된 thickness를 inverse transform하여 실측지로 변환합니다."
   ]
  },
  {
   "cell_type": "code",
   "execution_count": 182,
   "metadata": {},
   "outputs": [
    {
     "name": "stdout",
     "output_type": "stream",
     "text": [
      "3/3 [==============================] - 0s 1ms/step\n"
     ]
    }
   ],
   "source": [
    "prediction_3d = model.predict(data_modeling_3d_s)\n",
    "prediction_3d_i = output_scaler.inverse_transform(prediction_3d)"
   ]
  },
  {
   "cell_type": "code",
   "execution_count": 183,
   "metadata": {},
   "outputs": [],
   "source": [
    "# 예측된 결과는 plot_trisurf를 이용하여 시각화 해봅니다."
   ]
  },
  {
   "cell_type": "code",
   "execution_count": 184,
   "metadata": {},
   "outputs": [
    {
     "data": {
      "text/plain": [
       "<matplotlib.colorbar.Colorbar at 0x21dec5a88b0>"
      ]
     },
     "execution_count": 184,
     "metadata": {},
     "output_type": "execute_result"
    },
    {
     "data": {
      "image/png": "[encoded data removed]",
      "text/plain": [
       "<Figure size 800x600 with 2 Axes>"
      ]
     },
     "metadata": {},
     "output_type": "display_data"
    }
   ],
   "source": [
    "fig = plt.figure(figsize=(8,6))\n",
    "plt.rc('xtick', labelsize=10)\n",
    "plt.rc('ytick', labelsize=10)\n",
    "ax = fig.add_subplot(111, projection='3d')\n",
    "data_modeling_3d = np.array(data_modeling_3d)\n",
    "x = data_modeling_3d[:,0]\n",
    "y = data_modeling_3d[:,1]\n",
    "z = prediction_3d_i[:,0]\n",
    "surf = ax.plot_trisurf(x,y,z, cmap=cm.jet)\n",
    "ax.set_title(\"Prediction of film thickness\", fontsize=12)\n",
    "ax.set_xlabel(\"RF Power\", fontsize=12)\n",
    "ax.set_ylabel(\"Pressure\", fontsize=12)\n",
    "ax.set_zlabel(\"Thickness\", fontsize=12)\n",
    "fig.colorbar(surf, shrink=0.4, aspect=8,location='bottom')"
   ]
  },
  {
   "cell_type": "markdown",
   "metadata": {},
   "source": [
    "## 챌린지\n",
    "\n",
    "이번 프로젝트에서 사용한 모델은 overfiting된 결과를 보였습니다. overfitting을 막기 위해서는 어떤 기법을 사용 해야 할까요 ?"
   ]
  },
  {
   "cell_type": "code",
   "execution_count": null,
   "metadata": {},
   "outputs": [],
   "source": []
  }
 ],
 "metadata": {
  "colab": {
   "collapsed_sections": [],
   "name": "증착공정가상계측실습1.ipynb",
   "provenance": []
  },
  "hide_input": false,
  "kernelspec": {
   "display_name": "Python 3 (ipykernel)",
   "language": "python",
   "name": "python3"
  },
  "language_info": {
   "codemirror_mode": {
    "name": "ipython",
    "version": 3
   },
   "file_extension": ".py",
   "mimetype": "text/x-python",
   "name": "python",
   "nbconvert_exporter": "python",
   "pygments_lexer": "ipython3",
   "version": "3.8.10"
  }
 },
 "nbformat": 4,
 "nbformat_minor": 1
}
